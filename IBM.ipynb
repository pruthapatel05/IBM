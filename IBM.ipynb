{
  "nbformat": 4,
  "nbformat_minor": 0,
  "metadata": {
    "colab": {
      "provenance": []
    },
    "kernelspec": {
      "name": "python3",
      "display_name": "Python 3"
    },
    "language_info": {
      "name": "python"
    }
  },
  "cells": [
    {
      "cell_type": "code",
      "execution_count": null,
      "metadata": {
        "id": "SSl-ITJC4Tve"
      },
      "outputs": [],
      "source": [
        "import google.generativeai as genai"
      ]
    },
    {
      "cell_type": "code",
      "source": [
        "from getpass import getpass\n",
        "api_key = getpass(\"Enter your API key: \")"
      ],
      "metadata": {
        "colab": {
          "base_uri": "https://localhost:8080/"
        },
        "id": "Se_88VTBDQ76",
        "outputId": "4938bead-203c-4988-c491-e70c590c565f"
      },
      "execution_count": null,
      "outputs": [
        {
          "name": "stdout",
          "output_type": "stream",
          "text": [
            "Enter your API key: ··········\n"
          ]
        }
      ]
    },
    {
      "cell_type": "code",
      "source": [],
      "metadata": {
        "id": "WIHHk2wh4UdC"
      },
      "execution_count": null,
      "outputs": []
    },
    {
      "cell_type": "code",
      "source": [
        "genai.configure(api_key=api_key)"
      ],
      "metadata": {
        "id": "Njevz9kr4Xw8"
      },
      "execution_count": null,
      "outputs": []
    },
    {
      "cell_type": "code",
      "source": [
        "model = genai.GenerativeModel('models/gemini-1.5-flash')"
      ],
      "metadata": {
        "id": "7I3dBR4D4aBW"
      },
      "execution_count": null,
      "outputs": []
    },
    {
      "cell_type": "code",
      "source": [
        "def sdg3_message_generator(prompt_text):\n",
        "    message_prompt = (\n",
        "        f'''\n",
        "\n",
        "You are a creative social media expert dedicated to highlighting critical health issues under SDG 3. Using the problem described here: {prompt_text}, craft a short, impactful social media message (up to 250 characters) that informs or motivates.\n",
        "\n",
        "The message should:\n",
        "    • Grab attention right away with a strong opening\n",
        "    • Use a warm, relatable, and encouraging tone\n",
        "    • Be brief but meaningful and impactful\n",
        "    • Include 1 to 3 relevant, trending hashtags focused on health, well-being, or SDG 3\n",
        "\n",
        "Keep the message genuine and powerful—avoid clichés and generic language. Make sure it educates, inspires, or drives awareness about the health challenge.\n",
        "'''\n",
        "\n",
        "\n",
        "    )\n",
        "\n",
        "    response = model.generate_content(message_prompt)\n",
        "    message = response.text.strip()\n",
        "\n",
        "    return message\n"
      ],
      "metadata": {
        "id": "yqRH5rAW4cEF"
      },
      "execution_count": null,
      "outputs": []
    },
    {
      "cell_type": "code",
      "source": [
        "while True:\n",
        "    prompt = input('Enter the prompt for SDG 3 message or type Exit to Quit: ')\n",
        "\n",
        "    if prompt.lower() == 'exit':\n",
        "        print('Exiting!')\n",
        "        break\n",
        "    else:\n",
        "        message = sdg3_message_generator(prompt)\n",
        "        print(message)"
      ],
      "metadata": {
        "colab": {
          "base_uri": "https://localhost:8080/",
          "height": 141
        },
        "id": "3Gse5K-T5EXg",
        "outputId": "b97c80b3-88bc-4095-f875-db2ed1ff31e8"
      },
      "execution_count": null,
      "outputs": [
        {
          "output_type": "stream",
          "name": "stdout",
          "text": [
            "Enter the prompt for SDG 3 message or type Exit to Quit: Reducing air pollution to improve respiratory health\n",
            "Breathe easier!  Clean air = healthy lungs.  Let's work together to reduce air pollution & protect our respiratory health. #CleanAir #SDG3 #HealthyLungs\n",
            "Enter the prompt for SDG 3 message or type Exit to Quit: Quit\n",
            "Ready to breathe easier?  Quitting isn't about perfection, it's about progress. You've got this!  #QuitForLife #HealthyHabits #SDG3\n",
            "Enter the prompt for SDG 3 message or type Exit to Quit: Exit\n",
            "Exiting!\n"
          ]
        }
      ]
    },
    {
      "cell_type": "code",
      "source": [],
      "metadata": {
        "id": "osAjddnc5R8G"
      },
      "execution_count": null,
      "outputs": []
    },
    {
      "cell_type": "code",
      "source": [],
      "metadata": {
        "id": "n4iOPEST9hqK"
      },
      "execution_count": null,
      "outputs": []
    },
    {
      "cell_type": "code",
      "source": [],
      "metadata": {
        "id": "HlWcq9kt-vVa"
      },
      "execution_count": null,
      "outputs": []
    }
  ]
}